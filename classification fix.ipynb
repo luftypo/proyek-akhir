{
 "metadata": {
  "language_info": {
   "codemirror_mode": {
    "name": "ipython",
    "version": 3
   },
   "file_extension": ".py",
   "mimetype": "text/x-python",
   "name": "python",
   "nbconvert_exporter": "python",
   "pygments_lexer": "ipython3",
   "version": "3.9.6"
  },
  "orig_nbformat": 4,
  "kernelspec": {
   "name": "python3",
   "display_name": "Python 3.9.6 64-bit"
  },
  "interpreter": {
   "hash": "90675ad481ecc42b663cb0b43486a7fd24b41e1f79c887c534b5e409bc9f865e"
  }
 },
 "nbformat": 4,
 "nbformat_minor": 2,
 "cells": [
  {
   "cell_type": "code",
   "execution_count": null,
   "source": [
    "import os\r\n",
    "import sys\r\n",
    "import pandas as pd\r\n",
    "from bs4 import BeautifulSoup\r\n",
    "from pathlib import Path\r\n",
    "import xlsxwriter\r\n",
    "import statistics"
   ],
   "outputs": [],
   "metadata": {}
  },
  {
   "cell_type": "markdown",
   "source": [
    "# Get Header Data"
   ],
   "metadata": {}
  },
  {
   "cell_type": "code",
   "execution_count": null,
   "source": [
    "def getHeader(file):\r\n",
    "    with open(file, encoding='utf8') as infile:\r\n",
    "        soup = BeautifulSoup(infile,'html.parser')\r\n",
    "        headerList = []\r\n",
    "\r\n",
    "        # Get Header Data\r\n",
    "        header = soup.find_all(\"table\")[2].find(\"tr\")\r\n",
    "        for items in header:\r\n",
    "            try:\r\n",
    "                headerList.append(items.get_text())\r\n",
    "            except:\r\n",
    "                continue\r\n",
    "        return headerList"
   ],
   "outputs": [],
   "metadata": {}
  },
  {
   "cell_type": "markdown",
   "source": [
    "# Get Main Data"
   ],
   "metadata": {}
  },
  {
   "cell_type": "code",
   "execution_count": null,
   "source": [
    "def getMainData(file, header):\r\n",
    "    with open(file, encoding='utf8') as infile:\r\n",
    "        soup = BeautifulSoup(infile,'html.parser')\r\n",
    "        data = []\r\n",
    "\r\n",
    "        # Get Main Data\r\n",
    "        HTML_data = soup.find_all(\"table\")[2].find_all(\"tr\")[1:]\r\n",
    "        for element in HTML_data:\r\n",
    "            sub_data = []\r\n",
    "            for sub_element in element:\r\n",
    "                try:\r\n",
    "                    sub_data.append(sub_element.get_text())\r\n",
    "                except:\r\n",
    "                    continue\r\n",
    "            data.append(sub_data)\r\n",
    "\r\n",
    "        dataframe = pd.DataFrame(data=data, columns=header)\r\n",
    "\r\n",
    "        return dataframe"
   ],
   "outputs": [],
   "metadata": {}
  },
  {
   "cell_type": "markdown",
   "source": [
    "# Get Indicator"
   ],
   "metadata": {}
  },
  {
   "cell_type": "code",
   "execution_count": null,
   "source": [
    "# Get sum of indicator data\r\n",
    "def findVariable(header, data, indicator):\r\n",
    "    result_indicator = 0\r\n",
    "    for column in header:\r\n",
    "        for variable in indicator:\r\n",
    "            if column == variable:\r\n",
    "                dataframe = data[column].value_counts().sum()\r\n",
    "                blank = sum(data[column] == '')\r\n",
    "                result_indicator = dataframe-blank\r\n",
    "    return result_indicator"
   ],
   "outputs": [],
   "metadata": {}
  },
  {
   "cell_type": "markdown",
   "source": [
    "# Get Accuracy"
   ],
   "metadata": {}
  },
  {
   "cell_type": "code",
   "execution_count": null,
   "source": [
    "# Get sum of indicator data\r\n",
    "def getAccuracy(header, data, indicator):\r\n",
    "    result_indicator = accuracy = 0\r\n",
    "    for column in header:\r\n",
    "        for variable in indicator:\r\n",
    "            if column == variable:\r\n",
    "                dataframe = data[column].value_counts().sum()\r\n",
    "                blank = sum(data[column] == '')\r\n",
    "                result_indicator = dataframe-blank\r\n",
    "                accuracy = result_indicator/dataframe\r\n",
    "    return accuracy"
   ],
   "outputs": [],
   "metadata": {}
  },
  {
   "cell_type": "markdown",
   "source": [
    "# Keywords"
   ],
   "metadata": {}
  },
  {
   "cell_type": "code",
   "execution_count": null,
   "source": [
    "# Directory Information\r\n",
    "institute_name = [\"kampus\", \"campus\", \"universitas\", \"institut\", \"sekolah\", \"madrasah\", \"university\", \"school\"]\r\n",
    "accreditation = ['akreditasi', 'accreditation']\r\n",
    "institute_address = ['alamat', 'address']\r\n",
    "institute_number = ['number', 'no', 'phone','contact']\r\n",
    "\r\n",
    "# Educational Information\r\n",
    "educational_history = ['riwayat_pendidikan', 'educational_history', 'degree']\r\n",
    "educational_medicine = ['catatan_rekam_medis', 'medicine','check up','kesehatan','']\r\n",
    "educational_grade =[ 'grade', 'nilai', 'GRADE']\r\n",
    "\r\n",
    "# Personally Identifiable\r\n",
    "personal_number = ['number', 'no', 'phone', 'mobile']\r\n",
    "personal_address = ['alamat', 'address']\r\n",
    "personal_birthday = ['birthday', 'bornday', 'tanggal_lahir', 'birth']\r\n",
    "personal_religion = ['agama', 'religion']\r\n",
    "personal_gender = ['gender', 'jenis_kelamin',]\r\n",
    "personal_parent = ['orang_tua', 'parent', 'parent_name', 'parents', 'mother', 'father', 'mother_name', 'father_name']\r\n",
    "personal_photo = ['photo', 'foto']"
   ],
   "outputs": [],
   "metadata": {}
  },
  {
   "cell_type": "markdown",
   "source": [
    "# Get Result of Indicator & Accuracy"
   ],
   "metadata": {}
  },
  {
   "cell_type": "code",
   "execution_count": null,
   "source": [
    "# Get sum of a column data on every file\r\n",
    "total_institute_name = total_accreditation = total_institute_address = total_institute_number = 0\r\n",
    "total_educational_history = total_educational_medicine = total_educational_grade = 0\r\n",
    "total_personal_number = total_personal_address = total_personal_birthday = total_personal_religion = total_personal_gender = total_personal_parent = total_personal_photo = 0\r\n",
    "\r\n",
    "# Get sum of accuracy column data on every file\r\n",
    "accuracy_institute_name = accuracy_accreditation = accuracy_institute_address = accuracy_institute_number = 0\r\n",
    "accuracy_educational_history = accuracy_educational_medicine = accuracy_educational_grade = 0\r\n",
    "accuracy_personal_number = accuracy_personal_address = accuracy_personal_birthday = accuracy_personal_religion = accuracy_personal_gender = accuracy_personal_parent = accuracy_personal_photo = 0\r\n",
    "\r\n",
    "prev_institute_name = prev_accreditation = prev_institute_address = prev_institute_number = 0\r\n",
    "prev_educational_history = prev_educational_medicine = prev_educational_grade = 0\r\n",
    "prev_personal_number = prev_personal_address = prev_personal_birthday = prev_personal_religion = prev_personal_gender = prev_personal_parent = prev_personal_photo = 0\r\n",
    "\r\n",
    "length_institute_name = length_accreditation = length_institute_address = length_institute_number = 0\r\n",
    "length_educational_history = length_educational_medicine = length_educational_grade = 0\r\n",
    "length_personal_number = length_personal_address = length_personal_birthday = length_personal_religion = length_personal_gender = length_personal_parent = length_personal_photo = 0\r\n",
    "\r\n",
    "for file in Path(\"website/website 8\").iterdir():\r\n",
    "    # Get Main Data\r\n",
    "    header = getHeader(file)\r\n",
    "    data = getMainData(file, header)\r\n",
    "\r\n",
    "    if file.is_file():\r\n",
    "        # Directory Information\r\n",
    "        total_institute_name += findVariable(header, data, institute_name)\r\n",
    "        total_accreditation += findVariable(header, data, accreditation)\r\n",
    "        total_institute_address += findVariable(header, data, institute_address)\r\n",
    "        total_institute_number += findVariable(header, data, institute_number)\r\n",
    "\r\n",
    "        # # Educational Information\r\n",
    "        total_educational_history += findVariable(header, data, educational_history)\r\n",
    "        total_educational_medicine += findVariable(header, data, educational_medicine)\r\n",
    "        total_educational_grade += findVariable(header, data, educational_grade)\r\n",
    "\r\n",
    "        # # Personally Identifiable\r\n",
    "        total_personal_number += findVariable(header, data, personal_number)\r\n",
    "        total_personal_address += findVariable(header, data, personal_address)\r\n",
    "        total_personal_birthday += findVariable(header, data, personal_birthday)\r\n",
    "        total_personal_religion += findVariable(header, data, personal_religion)\r\n",
    "        total_personal_gender += findVariable(header, data, personal_gender)\r\n",
    "        total_personal_parent += findVariable(header, data, personal_parent)\r\n",
    "        total_personal_photo += findVariable(header, data, personal_photo)\r\n",
    "\r\n",
    "        # # Accuracy\r\n",
    "        # # Directory Information\r\n",
    "        accuracy_institute_name += getAccuracy(header, data, institute_name)\r\n",
    "        if accuracy_institute_name != prev_institute_name:\r\n",
    "            prev_institute_name = accuracy_institute_name\r\n",
    "            length_institute_name += 1\r\n",
    "        accuracy_accreditation += getAccuracy(header, data, accreditation)\r\n",
    "        if accuracy_accreditation != prev_accreditation:\r\n",
    "            prev_accreditation = accuracy_accreditation\r\n",
    "            length_accreditation += 1\r\n",
    "        accuracy_institute_address += getAccuracy(header, data, institute_address)\r\n",
    "        if accuracy_institute_address != prev_institute_address:\r\n",
    "            prev_institute_address = accuracy_institute_address\r\n",
    "            length_institute_address += 1\r\n",
    "        accuracy_institute_number += getAccuracy(header, data, institute_number)\r\n",
    "        if accuracy_institute_number != prev_institute_number:\r\n",
    "            prev_institute_number = accuracy_institute_number\r\n",
    "            length_institute_number += 1\r\n",
    "\r\n",
    "        # # Educational Information\r\n",
    "        accuracy_educational_history += getAccuracy(header, data, educational_history)\r\n",
    "        if accuracy_educational_history != prev_educational_history:\r\n",
    "            prev_educational_history = accuracy_educational_history\r\n",
    "            length_educational_history += 1\r\n",
    "        accuracy_educational_medicine += getAccuracy(header, data, educational_medicine)\r\n",
    "        if accuracy_educational_medicine != prev_educational_medicine:\r\n",
    "            prev_educational_medicine = accuracy_educational_medicine\r\n",
    "            length_educational_medicine += 1\r\n",
    "        accuracy_educational_grade += getAccuracy(header, data, educational_grade)\r\n",
    "        if accuracy_educational_grade != prev_educational_grade:\r\n",
    "            prev_educational_grade = accuracy_educational_grade\r\n",
    "            length_educational_grade += 1\r\n",
    "\r\n",
    "        # # Personally Identifiable\r\n",
    "        accuracy_personal_number += getAccuracy(header, data, personal_number)\r\n",
    "        if accuracy_personal_number != prev_personal_number:\r\n",
    "            prev_personal_number = accuracy_personal_number\r\n",
    "            length_personal_number += 1\r\n",
    "        accuracy_personal_address += getAccuracy(header, data, personal_address)\r\n",
    "        if accuracy_personal_address != prev_personal_address:\r\n",
    "            prev_personal_address = accuracy_personal_address\r\n",
    "            length_personal_address += 1\r\n",
    "        accuracy_personal_birthday += getAccuracy(header, data, personal_birthday)\r\n",
    "        if accuracy_personal_birthday != prev_personal_birthday:\r\n",
    "            prev_personal_birthday = accuracy_personal_birthday\r\n",
    "            length_personal_birthday += 1\r\n",
    "        accuracy_personal_religion += getAccuracy(header, data, personal_religion)\r\n",
    "        if accuracy_personal_religion != prev_personal_religion:\r\n",
    "            prev_personal_religion = accuracy_personal_religion\r\n",
    "            length_personal_religion += 1\r\n",
    "        accuracy_personal_gender += getAccuracy(header, data, personal_gender)\r\n",
    "        if accuracy_personal_gender != prev_personal_gender:\r\n",
    "            prev_personal_gender = accuracy_personal_gender\r\n",
    "            length_personal_gender += 1\r\n",
    "        accuracy_personal_parent += getAccuracy(header, data, personal_parent)\r\n",
    "        if accuracy_personal_parent != prev_personal_parent:\r\n",
    "            prev_personal_parent = accuracy_personal_parent\r\n",
    "            length_personal_parent += 1\r\n",
    "        accuracy_personal_photo += getAccuracy(header, data, personal_photo)\r\n",
    "        if accuracy_personal_photo != prev_personal_photo:\r\n",
    "            prev_personal_photo = accuracy_personal_photo\r\n",
    "            length_personal_photo += 1"
   ],
   "outputs": [],
   "metadata": {
    "tags": []
   }
  },
  {
   "cell_type": "code",
   "execution_count": null,
   "source": [
    "# print(\"Directory Information\")\r\n",
    "# print(\"Nama Institusi : \", total_institute_name)\r\n",
    "# print(\"Akreditasi : \", total_accreditation)\r\n",
    "# print(\"Alamat Institusi : \", total_institute_address)\r\n",
    "# print(\"Nomor Telepon : \", total_institute_number,\"\\n\")\r\n",
    "\r\n",
    "# print(\"Educational Information\")\r\n",
    "# print(\"Riwayat Pendidikan : \", total_educational_history)\r\n",
    "# print(\"Catatan Rekam Medis : \", total_educational_medicine)\r\n",
    "# print(\"Nilai : \", total_educational_grade,\"\\n\")\r\n",
    "\r\n",
    "# print(\"Personally Identifiable\")\r\n",
    "# print(\"No Hp Siswa : \", total_personal_number)\r\n",
    "# print(\"Alamat Rumah Siswa : \", total_personal_address)\r\n",
    "# print(\"Tempat Tanggal Lahir : \", total_personal_birthday)\r\n",
    "# print(\"Agama : \", total_personal_religion)\r\n",
    "# print(\"Jenis Kelamin : \", total_personal_gender)\r\n",
    "# print(\"Nama Orang Tua : \", total_personal_parent)\r\n",
    "# print(\"Foto Diri : \", total_personal_photo)"
   ],
   "outputs": [],
   "metadata": {}
  },
  {
   "cell_type": "code",
   "execution_count": null,
   "source": [
    "accuracy_institute_name = accuracy_institute_name/length_institute_name if length_institute_name != 0 else 0\r\n",
    "accuracy_accreditation = accuracy_accreditation/length_accreditation if length_accreditation != 0 else 0\r\n",
    "accuracy_institute_address = accuracy_institute_address/length_institute_address if length_institute_address != 0 else 0\r\n",
    "accuracy_institute_number = accuracy_institute_number/length_institute_number if length_institute_number != 0 else 0\r\n",
    "\r\n",
    "accuracy_educational_history = accuracy_educational_history/length_educational_history if length_educational_history != 0 else 0\r\n",
    "accuracy_educational_medicine = accuracy_educational_medicine/length_educational_medicine if length_educational_medicine != 0 else 0\r\n",
    "accuracy_educational_grade = accuracy_educational_grade/length_educational_grade if length_educational_grade != 0 else 0\r\n",
    "\r\n",
    "accuracy_personal_number = accuracy_personal_number/length_personal_number if length_personal_number != 0 else 0\r\n",
    "accuracy_personal_address = accuracy_personal_address/length_personal_address if length_personal_address != 0 else 0\r\n",
    "accuracy_personal_birthday = accuracy_personal_birthday/length_personal_birthday if length_personal_birthday != 0 else 0\r\n",
    "accuracy_personal_religion = accuracy_personal_religion/length_personal_religion if length_personal_religion != 0 else 0\r\n",
    "accuracy_personal_gender = accuracy_personal_gender/length_personal_gender if length_personal_gender != 0 else 0\r\n",
    "accuracy_personal_parent = accuracy_personal_parent/length_personal_parent if length_personal_parent != 0 else 0\r\n",
    "accuracy_personal_photo = accuracy_personal_photo/length_personal_photo if length_personal_photo != 0 else 0"
   ],
   "outputs": [],
   "metadata": {}
  },
  {
   "cell_type": "code",
   "execution_count": null,
   "source": [
    "# print(\"Accuracy\")\r\n",
    "# print(\"Directory Information\")\r\n",
    "# print(\"Nama Institusi : \", accuracy_institute_name)\r\n",
    "# print(\"Akreditasi : \", accuracy_accreditation)\r\n",
    "# print(\"Alamat Institusi : \", accuracy_institute_address)\r\n",
    "# print(\"Nomor Telepon : \", accuracy_institute_number,\"\\n\")\r\n",
    "\r\n",
    "# print(\"Educational Information\")\r\n",
    "# print(\"Riwayat Pendidikan : \", accuracy_educational_history)\r\n",
    "# print(\"Catatan Rekam Medis : \", accuracy_educational_medicine)\r\n",
    "# print(\"Nilai : \", accuracy_educational_grade,\"\\n\")\r\n",
    "\r\n",
    "# print(\"Personally Identifiable\")\r\n",
    "# print(\"No Hp Siswa : \", accuracy_personal_number)\r\n",
    "# print(\"Alamat Rumah Siswa : \", accuracy_personal_address)\r\n",
    "# print(\"Tempat Tanggal Lahir : \", accuracy_personal_birthday)\r\n",
    "# print(\"Agama : \", accuracy_personal_religion)\r\n",
    "# print(\"Jenis Kelamin : \", accuracy_personal_gender)\r\n",
    "# print(\"Nama Orang Tua : \", accuracy_personal_parent)\r\n",
    "# print(\"Foto Diri : \", accuracy_personal_photo)"
   ],
   "outputs": [],
   "metadata": {}
  },
  {
   "cell_type": "markdown",
   "source": [
    "# End Result"
   ],
   "metadata": {}
  },
  {
   "cell_type": "code",
   "execution_count": null,
   "source": [
    "# End Result\r\n",
    "directory_information = total_institute_name + total_accreditation + total_institute_address + total_institute_number\r\n",
    "educational_information = total_educational_history + total_educational_medicine + total_educational_grade\r\n",
    "personally_identifiable = total_personal_number + total_personal_address + total_personal_birthday + total_personal_religion + total_personal_gender + total_personal_parent + total_personal_photo\r\n",
    "\r\n",
    "print(\"Directory Information : \", directory_information)\r\n",
    "print(\"Educational Information : \", educational_information)\r\n",
    "print(\"Personally Identifiable : \", personally_identifiable)"
   ],
   "outputs": [],
   "metadata": {}
  },
  {
   "cell_type": "code",
   "execution_count": null,
   "source": [
    "accuracy_directory_information_list = [accuracy_institute_name,accuracy_accreditation,accuracy_institute_address,accuracy_institute_number]\r\n",
    "accuracy_educational_information_list = [accuracy_educational_history,accuracy_educational_medicine,accuracy_educational_grade]\r\n",
    "accuracy_personally_identifiable_list = [accuracy_personal_number,accuracy_personal_address,accuracy_personal_birthday,accuracy_personal_religion,accuracy_personal_gender,accuracy_personal_parent,accuracy_personal_photo]\r\n",
    "\r\n",
    "accuracy_directory_information = statistics.mean(accuracy_directory_information_list)\r\n",
    "accuracy_educational_information = statistics.mean(accuracy_educational_information_list)\r\n",
    "accuracy_personally_identifiable = statistics.mean(accuracy_personally_identifiable_list)\r\n",
    "\r\n",
    "accuracy_website = (accuracy_directory_information+accuracy_educational_information+accuracy_personally_identifiable) / 3\r\n",
    "print(\"Accuracy Website : \", str(round(accuracy_website, 3)),\"%\")\r\n",
    "\r\n",
    "output_accuracy = \"Akurasi Pengujian = {0:.2%}\".format(accuracy_website)"
   ],
   "outputs": [],
   "metadata": {}
  },
  {
   "cell_type": "markdown",
   "source": [
    "# Preparation Data for Excel"
   ],
   "metadata": {}
  },
  {
   "cell_type": "code",
   "execution_count": null,
   "source": [
    "# Preparation Data\r\n",
    "directory_indicator = [\"Nama Institusi\",\"Akreditasi\",\"Alamat Institusi\",\"Nomor Telepon\"]\r\n",
    "educational_indicator = [\"Riwayat Pendidikan\",\"Catatan Rekam Medis\",\"Nilai\"]\r\n",
    "personally_indicator = [\"No HP Siswa\",\"Alamat Rumah Siswa\",\"Tempat Tanggal Lahir\",\"Agama\",\"Jenis Kelamin\",\"Nama Orang Tua\",\"Foto Diri\"]\r\n",
    "\r\n",
    "result_directory_indicator = [total_institute_name,total_accreditation,total_institute_address,total_institute_number]\r\n",
    "result_educational_indicator = [total_educational_history,total_educational_medicine,total_educational_grade]\r\n",
    "result_personally_indicator = [total_personal_number,total_personal_address,total_personal_birthday,total_personal_religion,total_personal_gender,total_personal_parent,total_personal_photo]\r\n",
    "\r\n",
    "accuracy_directory_indicator = [accuracy_institute_name,accuracy_accreditation,accuracy_institute_address,accuracy_institute_number]\r\n",
    "accuracy_educational_indicator = [accuracy_educational_history,accuracy_educational_medicine,accuracy_educational_grade]\r\n",
    "accuracy_personally_indicator = [accuracy_personal_number,accuracy_personal_address,accuracy_personal_birthday,accuracy_personal_religion,accuracy_personal_gender,accuracy_personal_parent,accuracy_personal_photo]"
   ],
   "outputs": [],
   "metadata": {}
  },
  {
   "cell_type": "code",
   "execution_count": null,
   "source": [
    "def merge(list1,list2,list3):\r\n",
    "    merged_list = tuple(zip(list1,list2,list3))\r\n",
    "    return merged_list"
   ],
   "outputs": [],
   "metadata": {}
  },
  {
   "cell_type": "code",
   "execution_count": null,
   "source": [
    "directory = merge(directory_indicator,result_directory_indicator,accuracy_directory_indicator)\r\n",
    "educational = merge(educational_indicator,result_educational_indicator,accuracy_educational_indicator)\r\n",
    "personally = merge(personally_indicator,result_personally_indicator,accuracy_personally_indicator)"
   ],
   "outputs": [],
   "metadata": {}
  },
  {
   "cell_type": "markdown",
   "source": [
    "# Excel Output"
   ],
   "metadata": {}
  },
  {
   "cell_type": "code",
   "execution_count": null,
   "source": [
    "# Create a workbook and add a worksheet.\r\n",
    "workbook = xlsxwriter.Workbook('Output.xlsx')\r\n",
    "worksheet = workbook.add_worksheet()\r\n",
    "\r\n",
    "# Format Cell\r\n",
    "align_format = workbook.add_format({'align': 'center'})\r\n",
    "num_format = workbook.add_format({'num_format': '0.00%','align': 'center'})\r\n",
    "border_format = workbook.add_format({'border':1})\r\n",
    "worksheet.conditional_format( 'A1:I10' , {'type' : 'blanks','format' : border_format} )\r\n",
    "worksheet.conditional_format( 'A1:I10' , {'type' : 'no_blanks','format' : border_format} )\r\n",
    "worksheet.conditional_format( 'A11:I11' , {'type' : 'no_blanks','format' : border_format} )"
   ],
   "outputs": [],
   "metadata": {}
  },
  {
   "cell_type": "code",
   "execution_count": null,
   "source": [
    "def excelOutput(category,col_indicator,col_data,col_accuracy,total_data,total_accuracy):\r\n",
    "    row = 1\r\n",
    "    row_total = 9\r\n",
    "    \r\n",
    "    # Sub Header\r\n",
    "    worksheet.write(row, col_indicator, 'Indikator')\r\n",
    "    worksheet.write(row, col_data, 'Data', align_format)\r\n",
    "    worksheet.write(row, col_accuracy, 'Akurasi', align_format)\r\n",
    "    row += 1\r\n",
    "\r\n",
    "    for indicator, data, accuracy in category:\r\n",
    "        worksheet.write(row, col_indicator, indicator)\r\n",
    "        worksheet.write(row, col_data, data, align_format)\r\n",
    "        worksheet.write(row, col_accuracy, accuracy, num_format)\r\n",
    "        row += 1 \r\n",
    "\r\n",
    "    worksheet.write(row_total, col_data, total_data, align_format)\r\n",
    "    worksheet.write(row_total, col_accuracy, total_accuracy, num_format)"
   ],
   "outputs": [],
   "metadata": {}
  },
  {
   "cell_type": "code",
   "execution_count": null,
   "source": [
    "# Column Size\r\n",
    "worksheet.set_column('A:A', 15)\r\n",
    "worksheet.set_column('D:D', 20)\r\n",
    "worksheet.set_column('G:G', 22)\r\n",
    "\r\n",
    "# Header\r\n",
    "worksheet.merge_range('A1:C1', 'Directory Information', align_format)\r\n",
    "worksheet.merge_range('D1:F1', 'Educational Information', align_format)\r\n",
    "worksheet.merge_range('G1:I1', 'Personally Identifiable', align_format)\r\n",
    "worksheet.merge_range('A11:I11', output_accuracy, align_format)\r\n",
    "\r\n",
    "# Main Data\r\n",
    "excelOutput(directory,0,1,2,'=SUM(B1:B7)','=AVERAGE(C1:C7)')\r\n",
    "excelOutput(educational,3,4,5,'=SUM(E1:E7)','=AVERAGE(F1:F7)')\r\n",
    "excelOutput(personally,6,7,8,'=SUM(H1:H9)','=AVERAGE(I1:I9)')"
   ],
   "outputs": [],
   "metadata": {}
  },
  {
   "cell_type": "code",
   "execution_count": null,
   "source": [
    "# Total Data & Save File\r\n",
    "worksheet.write(9, 0, 'Total', align_format)\r\n",
    "workbook.close()"
   ],
   "outputs": [],
   "metadata": {}
  },
  {
   "cell_type": "code",
   "execution_count": null,
   "source": [],
   "outputs": [],
   "metadata": {}
  }
 ]
}