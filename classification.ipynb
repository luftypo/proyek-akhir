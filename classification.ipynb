{
 "metadata": {
  "language_info": {
   "codemirror_mode": {
    "name": "ipython",
    "version": 3
   },
   "file_extension": ".py",
   "mimetype": "text/x-python",
   "name": "python",
   "nbconvert_exporter": "python",
   "pygments_lexer": "ipython3",
   "version": "3.9.6"
  },
  "orig_nbformat": 4,
  "kernelspec": {
   "name": "python3",
   "display_name": "Python 3.9.6 64-bit"
  },
  "interpreter": {
   "hash": "90675ad481ecc42b663cb0b43486a7fd24b41e1f79c887c534b5e409bc9f865e"
  }
 },
 "nbformat": 4,
 "nbformat_minor": 2,
 "cells": [
  {
   "cell_type": "code",
   "execution_count": 15,
   "source": [
    "import os\r\n",
    "import sys\r\n",
    "import pandas as pd\r\n",
    "from bs4 import BeautifulSoup\r\n",
    "from pathlib import Path\r\n",
    "import xlsxwriter"
   ],
   "outputs": [],
   "metadata": {}
  },
  {
   "cell_type": "markdown",
   "source": [
    "# Get Header Data"
   ],
   "metadata": {}
  },
  {
   "cell_type": "code",
   "execution_count": 16,
   "source": [
    "def getHeader(file):\r\n",
    "    with open(file, encoding='utf8') as infile:\r\n",
    "        soup = BeautifulSoup(infile,'html.parser')\r\n",
    "        headerList = []\r\n",
    "\r\n",
    "        # Get Header Data\r\n",
    "        header = soup.find_all(\"table\")[2].find(\"tr\")\r\n",
    "        for items in header:\r\n",
    "            try:\r\n",
    "                headerList.append(items.get_text())\r\n",
    "            except:\r\n",
    "                continue\r\n",
    "        # print(\"List Header : :\",headerList)\r\n",
    "        return headerList"
   ],
   "outputs": [],
   "metadata": {}
  },
  {
   "cell_type": "markdown",
   "source": [
    "# Get Main Data"
   ],
   "metadata": {}
  },
  {
   "cell_type": "code",
   "execution_count": 17,
   "source": [
    "def getMainData(file, header):\r\n",
    "    with open(file, encoding='utf8') as infile:\r\n",
    "        soup = BeautifulSoup(infile,'html.parser')\r\n",
    "        data = []\r\n",
    "\r\n",
    "        # Get Main Data\r\n",
    "        HTML_data = soup.find_all(\"table\")[2].find_all(\"tr\")[1:]\r\n",
    "        for element in HTML_data:\r\n",
    "            sub_data = []\r\n",
    "            for sub_element in element:\r\n",
    "                try:\r\n",
    "                    sub_data.append(sub_element.get_text())\r\n",
    "                except:\r\n",
    "                    continue\r\n",
    "            data.append(sub_data)\r\n",
    "\r\n",
    "        dataframe = pd.DataFrame(data=data, columns=header)\r\n",
    "\r\n",
    "        return dataframe"
   ],
   "outputs": [],
   "metadata": {}
  },
  {
   "cell_type": "markdown",
   "source": [
    "# Get Indicator"
   ],
   "metadata": {}
  },
  {
   "cell_type": "code",
   "execution_count": 18,
   "source": [
    "# Get sum of indicator data\r\n",
    "def findVariable(header, data, indicator):        \r\n",
    "    result_indicator = 0\r\n",
    "    for column in header:\r\n",
    "        for variable in indicator:\r\n",
    "            if column == variable:\r\n",
    "                # print(column, \"Detect\")\r\n",
    "                dataframe = data[column].value_counts().sum()\r\n",
    "                blank = sum(data[column] == '')\r\n",
    "                result_indicator = dataframe-blank\r\n",
    "                # print('Jumlah Data :', sum_data,\"\\n\")\r\n",
    "    return result_indicator\r\n",
    "# institute_name_sum = findVariable(institute_name)"
   ],
   "outputs": [],
   "metadata": {}
  },
  {
   "cell_type": "code",
   "execution_count": 19,
   "source": [
    "# Directory Information\r\n",
    "institute_name = [\"kampus\", \"campus\", \"universitas\", \"institut\", \"sekolah\", \"madrasah\", \"university\", \"school\"]\r\n",
    "accreditation = ['akreditasi', 'accreditation']\r\n",
    "institute_address = ['alamat', 'address']\r\n",
    "institute_number = ['number', 'no', 'phone','contact']\r\n",
    "\r\n",
    "# Educational Information\r\n",
    "educational_history = ['riwayat_pendidikan', 'educational_history', 'degree']\r\n",
    "educational_medicine = ['catatan_rekam_medis', 'medicine','check up','kesehatan','']\r\n",
    "educational_grade =[ 'grade', 'nilai']\r\n",
    "\r\n",
    "# Personally Identifiable\r\n",
    "personal_number = ['number', 'no', 'phone','contact']\r\n",
    "personal_address = ['address', 'alamat']\r\n",
    "personal_birthday = ['birthday', 'bornday', 'tanggal_lahir', 'birth']\r\n",
    "personal_religion = ['agama', 'religion']\r\n",
    "personal_gender = ['gender', 'jenis_kelamin',]\r\n",
    "personal_parent = ['orang_tua', 'parent', 'parent_name', 'parents']\r\n",
    "personal_photo = ['photo', 'foto']"
   ],
   "outputs": [],
   "metadata": {}
  },
  {
   "cell_type": "code",
   "execution_count": 20,
   "source": [
    "# Get sum of a column data on every file\r\n",
    "total_institute_name = total_accreditation = total_institute_address = total_institute_number = 0\r\n",
    "total_educational_history = total_educational_medicine = total_educational_grade = 0\r\n",
    "total_personal_number = total_personal_address = total_personal_birthday = total_personal_religion = total_personal_gender = total_personal_parent = total_personal_photo = 0\r\n",
    "\r\n",
    "for file in Path(\"list website/website 1\").iterdir():\r\n",
    "    # Get Main Data\r\n",
    "    header = getHeader(file)\r\n",
    "    data = getMainData(file, header)\r\n",
    "    \r\n",
    "    # # Get sum of indicator\r\n",
    "    # sumVariable = findVariable(header, data, institute_name)\r\n",
    "\r\n",
    "    if file.is_file():\r\n",
    "        # Directory Information\r\n",
    "        total_institute_name += findVariable(header, data, institute_name)\r\n",
    "        total_accreditation += findVariable(header, data, accreditation)\r\n",
    "        total_institute_address += findVariable(header, data, institute_address)\r\n",
    "        total_institute_number += findVariable(header, data, institute_number)\r\n",
    "\r\n",
    "        # Educational Information\r\n",
    "        total_educational_history += findVariable(header, data, educational_history)\r\n",
    "        total_educational_medicine += findVariable(header, data, educational_medicine)\r\n",
    "        total_educational_grade += findVariable(header, data, educational_grade)\r\n",
    "\r\n",
    "        # Personally Identifiable\r\n",
    "        total_personal_number += findVariable(header, data, personal_number)\r\n",
    "        total_personal_address += findVariable(header, data, personal_number)\r\n",
    "        total_personal_birthday += findVariable(header, data, personal_birthday)\r\n",
    "        total_personal_religion += findVariable(header, data, personal_religion)\r\n",
    "        total_personal_gender += findVariable(header, data, personal_gender)\r\n",
    "        total_personal_parent += findVariable(header, data, personal_parent)\r\n",
    "        total_personal_photo += findVariable(header, data, personal_photo)\r\n",
    "\r\n",
    "print(\"Directory Information\")\r\n",
    "print(\"Nama Institusi : \", total_institute_name)\r\n",
    "print(\"Akreditasi : \", total_accreditation)\r\n",
    "print(\"Alamat Institusi : \", total_institute_address)\r\n",
    "print(\"Nomor Telepon : \", total_institute_number,\"\\n\")\r\n",
    "\r\n",
    "print(\"Educational Information\")\r\n",
    "print(\"Riwayat Pendidikan : \", total_educational_history)\r\n",
    "print(\"Catatan Rekam Medis : \", total_educational_medicine)\r\n",
    "print(\"Nilai : \", total_educational_grade,\"\\n\")\r\n",
    "\r\n",
    "print(\"Personally Identifiable\")\r\n",
    "print(\"No Hp Siswa : \", total_personal_number)\r\n",
    "print(\"Alamat Rumah Siswa : \", total_personal_address)\r\n",
    "print(\"Tempat Tanggal Lahir : \", total_personal_birthday)\r\n",
    "print(\"Agama : \", total_personal_religion)\r\n",
    "print(\"Jenis Kelamin : \", total_personal_gender)\r\n",
    "print(\"Nama Orang Tua : \", total_personal_parent)\r\n",
    "print(\"Foto Diri : \", total_personal_photo)"
   ],
   "outputs": [
    {
     "output_type": "stream",
     "name": "stdout",
     "text": [
      "Directory Information\n",
      "Nama Institusi :  26\n",
      "Akreditasi :  0\n",
      "Alamat Institusi :  797\n",
      "Nomor Telepon :  22 \n",
      "\n",
      "Educational Information\n",
      "Riwayat Pendidikan :  26\n",
      "Catatan Rekam Medis :  0\n",
      "Nilai :  0 \n",
      "\n",
      "Personally Identifiable\n",
      "No Hp Siswa :  22\n",
      "Alamat Rumah Siswa :  22\n",
      "Tempat Tanggal Lahir :  23\n",
      "Agama :  0\n",
      "Jenis Kelamin :  0\n",
      "Nama Orang Tua :  0\n",
      "Foto Diri :  0\n"
     ]
    }
   ],
   "metadata": {
    "tags": []
   }
  },
  {
   "cell_type": "markdown",
   "source": [
    "# End Result"
   ],
   "metadata": {}
  },
  {
   "cell_type": "code",
   "execution_count": 21,
   "source": [
    "# End Result\r\n",
    "directory_information = total_institute_name + total_accreditation + total_institute_address + total_institute_number\r\n",
    "educational_information = total_educational_history + total_educational_medicine + total_educational_grade\r\n",
    "personally_identifiable = total_personal_number + total_personal_address + total_personal_birthday + total_personal_religion + total_personal_gender + total_personal_parent + total_personal_photo\r\n",
    "\r\n",
    "print(\"Directory Information : \", directory_information)\r\n",
    "print(\"Educational Information : \", educational_information)\r\n",
    "print(\"Personally Identifiable : \", personally_identifiable)"
   ],
   "outputs": [
    {
     "output_type": "stream",
     "name": "stdout",
     "text": [
      "Directory Information :  845\n",
      "Educational Information :  26\n",
      "Personally Identifiable :  67\n"
     ]
    }
   ],
   "metadata": {}
  },
  {
   "cell_type": "markdown",
   "source": [
    "# Preparation Data for Excel"
   ],
   "metadata": {}
  },
  {
   "cell_type": "code",
   "execution_count": 22,
   "source": [
    "# Preparation Data\r\n",
    "directory_indicator = [\"Nama Institusi\",\"Akreditasi\",\"Alamat Institusi\",\"Nomor Telepon\"]\r\n",
    "educational_indicator = [\"Riwayat Pendidikan\",\"Catatan Rekam Medis\",\"Nilai\"]\r\n",
    "personally_indicator = [\"No HP Siswa\",\"Alamat Rumah Siswa\",\"Tempat Tanggal Lahir\",\"Agama\",\"Jenis Kelamin\",\"Nama Orang Tua\",\"Foto Diri\"]\r\n",
    "result_directory_indicator = [total_institute_name,total_accreditation,total_institute_address,total_institute_number]\r\n",
    "result_educational_indicator = [total_educational_history,total_educational_medicine,total_educational_grade]\r\n",
    "result_personally_indicator = [total_personal_number,total_personal_address,total_personal_birthday,total_personal_religion,total_personal_gender,total_personal_parent,total_personal_photo]"
   ],
   "outputs": [],
   "metadata": {}
  },
  {
   "cell_type": "code",
   "execution_count": 23,
   "source": [
    "def merge(list1,list2):\r\n",
    "    merged_list = tuple(zip(list1,list2))\r\n",
    "    return merged_list"
   ],
   "outputs": [],
   "metadata": {}
  },
  {
   "cell_type": "code",
   "execution_count": 24,
   "source": [
    "directory = merge(directory_indicator,result_directory_indicator)\r\n",
    "educational = merge(educational_indicator,result_educational_indicator)\r\n",
    "personally = merge(personally_indicator,result_personally_indicator)"
   ],
   "outputs": [],
   "metadata": {}
  },
  {
   "cell_type": "markdown",
   "source": [
    "# Excel Output"
   ],
   "metadata": {}
  },
  {
   "cell_type": "code",
   "execution_count": 25,
   "source": [
    "# Create a workbook and add a worksheet.\r\n",
    "workbook = xlsxwriter.Workbook('Output.xlsx')\r\n",
    "worksheet = workbook.add_worksheet()\r\n",
    "\r\n",
    "# Format Cell\r\n",
    "align_format = workbook.add_format({'align': 'center'})\r\n",
    "border_format = workbook.add_format({'border':1})\r\n",
    "worksheet.conditional_format( 'A1:F10' , {'type' : 'blanks','format' : border_format} )\r\n",
    "worksheet.conditional_format( 'A1:F10' , {'type' : 'no_blanks','format' : border_format} )"
   ],
   "outputs": [
    {
     "output_type": "execute_result",
     "data": {
      "text/plain": [
       "0"
      ]
     },
     "metadata": {},
     "execution_count": 25
    }
   ],
   "metadata": {}
  },
  {
   "cell_type": "code",
   "execution_count": 26,
   "source": [
    "def excelOutput(category,col_indicator,col_data,total):\r\n",
    "    row = 1\r\n",
    "    row_total = 9\r\n",
    "    \r\n",
    "    # Sub Header\r\n",
    "    worksheet.write(row, col_indicator, 'Indikator')\r\n",
    "    worksheet.write(row, col_data, 'Data', align_format)\r\n",
    "    row += 1\r\n",
    "\r\n",
    "    for indicator, data in category:\r\n",
    "        worksheet.write(row, col_indicator, indicator)\r\n",
    "        worksheet.write(row, col_data, data, align_format)\r\n",
    "        row += 1 \r\n",
    "\r\n",
    "    worksheet.write(row_total, col_data, total, align_format)"
   ],
   "outputs": [],
   "metadata": {}
  },
  {
   "cell_type": "code",
   "execution_count": 27,
   "source": [
    "# Column Size\r\n",
    "worksheet.set_column('A:A', 15)\r\n",
    "worksheet.set_column('C:C', 20)\r\n",
    "worksheet.set_column('E:E', 22)\r\n",
    "\r\n",
    "# Header\r\n",
    "worksheet.merge_range('A1:B1', 'Directory Information', align_format)\r\n",
    "worksheet.merge_range('C1:D1', 'Educational Information', align_format)\r\n",
    "worksheet.merge_range('E1:F1', 'Personally Identifiable', align_format)\r\n",
    "\r\n",
    "# Main Data\r\n",
    "excelOutput(directory,0,1,'=SUM(B1:B7)')\r\n",
    "excelOutput(educational,2,3,'=SUM(D1:D7)')\r\n",
    "excelOutput(personally,4,5,'=SUM(F1:F9)')"
   ],
   "outputs": [],
   "metadata": {}
  },
  {
   "cell_type": "code",
   "execution_count": 28,
   "source": [
    "# Total Data & Save File\r\n",
    "worksheet.write(9, 0, 'Total', align_format)\r\n",
    "workbook.close()"
   ],
   "outputs": [],
   "metadata": {}
  },
  {
   "cell_type": "code",
   "execution_count": null,
   "source": [],
   "outputs": [],
   "metadata": {}
  }
 ]
}