{
 "cells": [
  {
   "cell_type": "code",
   "execution_count": null,
   "source": [
    "import os\n",
    "import sys\n",
    "import pandas as pd\n",
    "from bs4 import BeautifulSoup"
   ],
   "outputs": [],
   "metadata": {}
  },
  {
   "cell_type": "code",
   "execution_count": null,
   "source": [
    "# Get sum of a column data\n",
    "def inputData(path,i):\n",
    "    soup = BeautifulSoup(open(path),'html.parser')\n",
    "    # Empty List\n",
    "    data = []\n",
    "    list_header = []\n",
    "    # Get Header Data\n",
    "    header = soup.find_all(\"table\")[2].find(\"tr\")\n",
    "    for items in header:\n",
    "        try:\n",
    "            list_header.append(items.get_text())\n",
    "        except:\n",
    "            continue\n",
    "    print(\"List Header : \",list_header)"
   ],
   "outputs": [],
   "metadata": {}
  },
  {
   "cell_type": "code",
   "execution_count": null,
   "source": [
    "# Get sum of a coumn data on every file\n",
    "from pathlib import Path\n",
    "total = 0\n",
    "# file = open(str(\"\"), 'rb')\n",
    "for path in Path(\"website_used\").iterdir():\n",
    "    inputData(path,i)"
   ],
   "outputs": [],
   "metadata": {}
  },
  {
   "cell_type": "code",
   "execution_count": null,
   "source": [
    "# Get sum of a coumn data on every file\n",
    "from pathlib import Path\n",
    "total = 0\n",
    "# file = open(str(\"\"), 'rb')\n",
    "for path in Path(\"website_2\").iterdir():\n",
    "    inputData(path,i)"
   ],
   "outputs": [],
   "metadata": {}
  }
 ],
 "metadata": {
  "orig_nbformat": 4,
  "language_info": {
   "name": "python"
  }
 },
 "nbformat": 4,
 "nbformat_minor": 2
}