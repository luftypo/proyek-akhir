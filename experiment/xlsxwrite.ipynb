{
 "cells": [
  {
   "cell_type": "code",
   "execution_count": 3,
   "source": [
    "import xlsxwriter"
   ],
   "outputs": [],
   "metadata": {}
  },
  {
   "cell_type": "code",
   "execution_count": 4,
   "source": [
    "# Create a workbook and add a worksheet.\n",
    "workbook = xlsxwriter.Workbook('Expenses01.xlsx')\n",
    "worksheet = workbook.add_worksheet()"
   ],
   "outputs": [],
   "metadata": {}
  },
  {
   "cell_type": "code",
   "execution_count": 5,
   "source": [
    "# Some data we want to write to the worksheet.\n",
    "expenses = (\n",
    "    ['Rent', 1000],\n",
    "    ['Gas',   100],\n",
    "    ['Food',  300],\n",
    "    ['Gym',    50],\n",
    ")\n"
   ],
   "outputs": [],
   "metadata": {}
  },
  {
   "cell_type": "code",
   "execution_count": 11,
   "source": [
    "for item, cost in expenses:\n",
    "    print(item,cost)"
   ],
   "outputs": [
    {
     "output_type": "stream",
     "name": "stdout",
     "text": [
      "Rent 1000\n",
      "Gas 100\n",
      "Food 300\n",
      "Gym 50\n"
     ]
    }
   ],
   "metadata": {}
  },
  {
   "cell_type": "code",
   "execution_count": 12,
   "source": [
    "expenses = (\n",
    "    'Rent', 1000,\n",
    "    'Gas',   100,\n",
    "    'Food',  300,\n",
    "    'Gym',    50,\n",
    ")"
   ],
   "outputs": [],
   "metadata": {}
  },
  {
   "cell_type": "code",
   "execution_count": 14,
   "source": [
    "for item in expenses:\n",
    "    print(item)"
   ],
   "outputs": [
    {
     "output_type": "stream",
     "name": "stdout",
     "text": [
      "Rent\n",
      "1000\n",
      "Gas\n",
      "100\n",
      "Food\n",
      "300\n",
      "Gym\n",
      "50\n"
     ]
    }
   ],
   "metadata": {}
  },
  {
   "cell_type": "code",
   "execution_count": 7,
   "source": [
    "row = col = 0"
   ],
   "outputs": [],
   "metadata": {}
  },
  {
   "cell_type": "code",
   "execution_count": 8,
   "source": [
    "# Iterate over the data and write it out row by row.\n",
    "for item, cost in expenses:\n",
    "    worksheet.write(row, col, item)\n",
    "    worksheet.write(row, col + 1, cost)\n",
    "    row += 1"
   ],
   "outputs": [],
   "metadata": {}
  },
  {
   "cell_type": "code",
   "execution_count": 9,
   "source": [
    "worksheet.write(row, 0, 'Total')\n",
    "worksheet.write(row, 1, '=SUM(B1:B4)')\n",
    "\n",
    "workbook.close()"
   ],
   "outputs": [],
   "metadata": {}
  },
  {
   "cell_type": "code",
   "execution_count": null,
   "source": [
    "print(\"Nama Institusi : \", total_institute_name)\n",
    "print(\"Akreditasi : \", total_accreditation)\n",
    "print(\"Alamat Institusi : \", total_institute_address)\n",
    "print(\"Nomor Telepon : \", total_institute_number,\"\\n\")\n",
    "\n",
    "print(\"Educational Information\")\n",
    "print(\"Riwayat Pendidikan : \", total_educational_history)\n",
    "print(\"Catatan Rekam Medis : \", total_educational_medicine)\n",
    "print(\"Nilai : \", total_educational_grade,\"\\n\")\n",
    "\n",
    "print(\"Personally Identifiable\")\n",
    "print(\"No Hp Siswa : \", total_personal_number)\n",
    "print(\"Alamat Rumah Siswa : \", total_personal_address)\n",
    "print(\"Tempat Tanggal Lahir : \", total_personal_birthday)\n",
    "print(\"Agama : \", total_personal_religion)\n",
    "print(\"Jenis Kelamin : \", total_personal_gender)\n",
    "print(\"Nama Orang Tua : \", total_personal_parent)\n",
    "print(\"Foto Diri : \", total_personal_photo)"
   ],
   "outputs": [],
   "metadata": {}
  },
  {
   "cell_type": "code",
   "execution_count": 15,
   "source": [
    "directory_indicator = [\"Nama Institusi\",\"Akreditasi\",\"Alamat Institusi\",\"Nomor Telepon\"]\n",
    "educational_indicator = [\"Riwayat Pendidikan\",\"Catatan Rekam Medis\",\"Nilai\"]\n",
    "personally_indicator = [\"No HP Siswa\",\"Alamat Rumah Siswa\",\"Tempat Tanggal Lahir\",\"Agama\",\"Jenis Kelamin\",\"Nama Orang Tua\",\"Foto Diri\"]\n",
    "hasil = [1,2,3,4]"
   ],
   "outputs": [],
   "metadata": {}
  },
  {
   "cell_type": "code",
   "execution_count": 16,
   "source": [
    "def merge(list1,list2):\n",
    "    merged_list = tuple(zip(list1,list2))\n",
    "    return merged_list"
   ],
   "outputs": [],
   "metadata": {}
  },
  {
   "cell_type": "code",
   "execution_count": 17,
   "source": [
    "print(merge(indicator,hasil))"
   ],
   "outputs": [
    {
     "output_type": "stream",
     "name": "stdout",
     "text": [
      "(('Nama Institusi', 1), ('Akreditasi', 2), ('Alamat Institusi', 3), ('Nomor Telepon', 4))\n"
     ]
    }
   ],
   "metadata": {}
  },
  {
   "cell_type": "code",
   "execution_count": null,
   "source": [],
   "outputs": [],
   "metadata": {}
  }
 ],
 "metadata": {
  "orig_nbformat": 4,
  "language_info": {
   "name": "python",
   "version": "3.9.6",
   "mimetype": "text/x-python",
   "codemirror_mode": {
    "name": "ipython",
    "version": 3
   },
   "pygments_lexer": "ipython3",
   "nbconvert_exporter": "python",
   "file_extension": ".py"
  },
  "kernelspec": {
   "name": "python3",
   "display_name": "Python 3.9.6 64-bit"
  },
  "interpreter": {
   "hash": "aee8b7b246df8f9039afb4144a1f6fd8d2ca17a180786b69acc140d282b71a49"
  }
 },
 "nbformat": 4,
 "nbformat_minor": 2
}